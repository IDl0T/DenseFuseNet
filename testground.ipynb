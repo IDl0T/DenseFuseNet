{
 "cells": [
  {
   "cell_type": "markdown",
   "metadata": {},
   "source": [
    "# Train command\n",
    "    ./train.py -d /DATACENTER2/yau-project/dataset/ -ac /DATACENTER2/yau-project/yaumodel/arch_cfg.yaml -l /DATACENTER2/yau-project/log"
   ]
  },
  {
   "cell_type": "markdown",
   "metadata": {},
   "source": [
    "# debug progress\n",
    "currently, repeatedly run the train command and get runtime errors"
   ]
  },
  {
   "cell_type": "code",
   "execution_count": 6,
   "metadata": {},
   "outputs": [
    {
     "data": {
      "text/plain": [
       "[1.2, 2.4]"
      ]
     },
     "execution_count": 6,
     "metadata": {},
     "output_type": "execute_result"
    }
   ],
   "source": [
    "a = ['1.2', '2.4']\n",
    "[float(i) for i in a]"
   ]
  }
 ],
 "metadata": {
  "kernelspec": {
   "display_name": "yau-model",
   "language": "python",
   "name": "yau-model"
  },
  "language_info": {
   "codemirror_mode": {
    "name": "ipython",
    "version": 3
   },
   "file_extension": ".py",
   "mimetype": "text/x-python",
   "name": "python",
   "nbconvert_exporter": "python",
   "pygments_lexer": "ipython3",
   "version": "3.8.2"
  }
 },
 "nbformat": 4,
 "nbformat_minor": 4
}
